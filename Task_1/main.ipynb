{
 "cells": [
  {
   "cell_type": "code",
   "execution_count": 1,
   "metadata": {},
   "outputs": [],
   "source": [
    "# importing libraries\n",
    "import cv2\n",
    "import os\n",
    "from os import listdir"
   ]
  },
  {
   "cell_type": "code",
   "execution_count": 2,
   "metadata": {},
   "outputs": [],
   "source": [
    "# reading the video\n",
    "video = cv2.VideoCapture('./Section_2_Task_1.mp4')\n",
    "\n",
    "# folder_name\n",
    "folder_name = 'Section_2_Task_1_images'"
   ]
  },
  {
   "cell_type": "code",
   "execution_count": 3,
   "metadata": {},
   "outputs": [],
   "source": [
    "# function to convert video to images\n",
    "def video_to_images(video, folder_name):\n",
    "\n",
    "    if os.path.exists(folder_name):\n",
    "        for file_name in listdir(folder_name):\n",
    "            string1 = \"\"\n",
    "            string1 = str(folder_name) + \"/\" + str(file_name)\n",
    "            os.remove(string1)\n",
    "    else:\n",
    "        os.makedirs(folder_name)\n",
    "\n",
    "\n",
    "    while(1):\n",
    "        # extracting the frames\n",
    "        ret, frame = video.read()\n",
    "        # if frame is extracted\n",
    "        if ret == True:\n",
    "            # writing the extracted frame\n",
    "            cv2.imwrite('./'+folder_name+'/'+str(video.get(1))+'.jpg', frame)\n",
    "        else:\n",
    "            break\n",
    "\n",
    "    # releasing the video object\n",
    "    video.release()\n",
    "    # closing all the windows\n",
    "    cv2.destroyAllWindows()\n"
   ]
  },
  {
   "cell_type": "code",
   "execution_count": 4,
   "metadata": {},
   "outputs": [],
   "source": [
    "# running the function\n",
    "video_to_images(video, folder_name)"
   ]
  },
  {
   "cell_type": "code",
   "execution_count": 5,
   "metadata": {},
   "outputs": [],
   "source": [
    "# function to transform images to video\n",
    "def images_to_video(image_folder, video_name, fps):\n",
    "    \n",
    "    images = [img for img in os.listdir(image_folder) if img.endswith(\".jpg\")]\n",
    "    images.sort(key=lambda x: int(x.split('.')[0]))\n",
    "\n",
    "    frame = cv2.imread(os.path.join(image_folder, images[0]))\n",
    "    height, width, layers = frame.shape\n",
    "\n",
    "    video = cv2.VideoWriter(video_name, cv2.VideoWriter_fourcc(*'mp4v'), fps, (width, height))\n",
    "\n",
    "    for image in images:\n",
    "        video.write(cv2.imread(os.path.join(image_folder, image)))\n",
    "\n",
    "\n",
    "    cv2.destroyAllWindows()\n",
    "    video.release()\n",
    "\n"
   ]
  },
  {
   "cell_type": "code",
   "execution_count": 7,
   "metadata": {},
   "outputs": [],
   "source": [
    "# running the function\n",
    "image_input_folder = folder_name\n",
    "fps = 60  # Adjust the frames per second as needed\n",
    "output_video_name = 'Section_2_Task_1_output_video_fps' + str(fps) + '.mp4'\n",
    "\n",
    "if os.path.exists(output_video_name):\n",
    "    os.remove(output_video_name)\n",
    "\n",
    "    \n",
    "images_to_video(image_input_folder, output_video_name, fps)"
   ]
  }
 ],
 "metadata": {
  "kernelspec": {
   "display_name": "myvenv",
   "language": "python",
   "name": "python3"
  },
  "language_info": {
   "codemirror_mode": {
    "name": "ipython",
    "version": 3
   },
   "file_extension": ".py",
   "mimetype": "text/x-python",
   "name": "python",
   "nbconvert_exporter": "python",
   "pygments_lexer": "ipython3",
   "version": "3.8.10"
  }
 },
 "nbformat": 4,
 "nbformat_minor": 2
}
