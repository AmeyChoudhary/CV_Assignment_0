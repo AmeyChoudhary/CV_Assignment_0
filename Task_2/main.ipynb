{
 "cells": [
  {
   "cell_type": "code",
   "execution_count": 72,
   "metadata": {},
   "outputs": [],
   "source": [
    "# import the opencv library \n",
    "import cv2 \n",
    "import os\n",
    "from os import listdir"
   ]
  },
  {
   "cell_type": "code",
   "execution_count": 73,
   "metadata": {},
   "outputs": [],
   "source": [
    "folder_name = \"webcam_frames\"\n",
    "\n",
    "if os.path.exists(folder_name):\n",
    "    for file_name in listdir(folder_name):\n",
    "        string1 = \"\"\n",
    "        string1 = str(folder_name) + \"/\" + str(file_name)\n",
    "        os.remove(string1)\n",
    "else:\n",
    "    os.makedirs(folder_name)\n",
    "\n",
    "        \n",
    "    \n"
   ]
  },
  {
   "cell_type": "code",
   "execution_count": 74,
   "metadata": {},
   "outputs": [],
   "source": [
    "# define a video capture object \n",
    "video = cv2.VideoCapture(0) # opens the webcam\n",
    "counter = 0\n",
    "\n",
    "while(True):\n",
    "\n",
    "\tret, frame = video.read() \n",
    "\n",
    "\t# Display the resulting frame \n",
    "\tcv2.imshow('frame', frame) \n",
    "\n",
    "\t# writes the current framw\n",
    "\tcv2.imwrite('./'+folder_name+'/'+str(counter)+'.jpg', frame)\n",
    "\n",
    "\tcounter += 1\n",
    "\t\n",
    "\tc = cv2.waitKey(1)\n",
    "\n",
    "\t# escape key\n",
    "\tif c == 27:\n",
    "\t\tbreak\n",
    "\n",
    "video.release() \n",
    "cv2.destroyAllWindows() \n"
   ]
  }
 ],
 "metadata": {
  "kernelspec": {
   "display_name": "Python 3",
   "language": "python",
   "name": "python3"
  },
  "language_info": {
   "codemirror_mode": {
    "name": "ipython",
    "version": 3
   },
   "file_extension": ".py",
   "mimetype": "text/x-python",
   "name": "python",
   "nbconvert_exporter": "python",
   "pygments_lexer": "ipython3",
   "version": "3.8.10"
  }
 },
 "nbformat": 4,
 "nbformat_minor": 2
}
