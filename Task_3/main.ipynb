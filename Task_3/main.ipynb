{
 "cells": [
  {
   "cell_type": "code",
   "execution_count": 6,
   "metadata": {},
   "outputs": [],
   "source": [
    "# importing libraries\n",
    "import cv2\n",
    "import os\n",
    "from os import listdir"
   ]
  },
  {
   "cell_type": "code",
   "execution_count": 7,
   "metadata": {},
   "outputs": [],
   "source": [
    "# function to convert video to images\n",
    "def video_to_images(video, folder_name):\n",
    "\n",
    "    if os.path.exists(folder_name):\n",
    "        for file_name in listdir(folder_name):\n",
    "            string1 = \"\"\n",
    "            string1 = str(folder_name) + \"/\" + str(file_name)\n",
    "            os.remove(string1)\n",
    "    else:\n",
    "        os.makedirs(folder_name)\n",
    "\n",
    "    while(1):\n",
    "        # extracting the frames\n",
    "        ret, frame = video.read()\n",
    "        # if frame is extracted\n",
    "        if ret == True:\n",
    "            # writing the extracted frame\n",
    "            cv2.imwrite('./'+folder_name+'/'+str(video.get(1))+'.jpg', frame)\n",
    "        else:\n",
    "            break\n",
    "\n",
    "    # releasing the video object\n",
    "    video.release()\n",
    "    # closing all the windows\n",
    "    cv2.destroyAllWindows()"
   ]
  },
  {
   "cell_type": "code",
   "execution_count": 8,
   "metadata": {},
   "outputs": [],
   "source": [
    "# function to convert images to video\n",
    "def images_to_video(image_folder, video_name, fps):\n",
    "    \n",
    "    images = [img for img in os.listdir(image_folder) if img.endswith(\".jpg\")]\n",
    "    images.sort(key=lambda x: int(x.split('.')[0]))\n",
    "\n",
    "    frame = cv2.imread(os.path.join(image_folder, images[0]))\n",
    "    height, width, layers = frame.shape\n",
    "\n",
    "    video = cv2.VideoWriter(video_name, cv2.VideoWriter_fourcc(*'mp4v'), fps, (width, height))\n",
    "\n",
    "    for image in images:\n",
    "        video.write(cv2.imread(os.path.join(image_folder, image)))\n",
    "\n",
    "\n",
    "    cv2.destroyAllWindows()\n",
    "    video.release()"
   ]
  },
  {
   "cell_type": "code",
   "execution_count": 9,
   "metadata": {},
   "outputs": [],
   "source": [
    "# declaring the videos\n",
    "video_to_be_composited = cv2.VideoCapture('./yt1s.com - Chipi Chipi Chapa Chapa CAT GREEN SCREEN.mp4') # foreground video\n",
    "video_to_be_composited_on = cv2.VideoCapture('./yt1s.com - Free Halloween Graveyard Cemetery Stock Video Footage.mp4') # background video"
   ]
  },
  {
   "cell_type": "code",
   "execution_count": 10,
   "metadata": {},
   "outputs": [],
   "source": [
    "# converting to images\n",
    "video_to_images(video_to_be_composited, 'video_to_be_composited')\n",
    "video_to_images(video_to_be_composited_on, 'video_to_be_composited_on')"
   ]
  },
  {
   "cell_type": "code",
   "execution_count": 11,
   "metadata": {},
   "outputs": [],
   "source": [
    "# function to composite the frames\n",
    "def composite_videos( output_folder, video1frames, video2frames, final_height, final_width):\n",
    "\n",
    "    counter = 0\n",
    "    no_of_frames = min(len(os.listdir(video1frames)) , len(os.listdir(video2frames)))\n",
    "\n",
    "    image_folder1 = video1frames\n",
    "    image_folder2 = video2frames\n",
    "\n",
    "    images1 = [img for img in os.listdir(image_folder1) if img.endswith(\".jpg\")]\n",
    "    images2 = [img for img in os.listdir(image_folder2) if img.endswith(\".jpg\")]\n",
    "\n",
    "    images1.sort(key=lambda x: int(x.split('.')[0]))\n",
    "    images2.sort(key=lambda x: int(x.split('.')[0]))\n",
    "\n",
    "    if os.path.exists(output_folder):\n",
    "        os.system('rm -rf ' + output_folder)\n",
    "    os.system('mkdir ' + output_folder)\n",
    "\n",
    "    if os.path.exists(output_folder):\n",
    "        for file_name in listdir(output_folder):\n",
    "            string1 = \"\"\n",
    "            string1 = str(output_folder) + \"/\" + str(file_name)\n",
    "            os.remove(string1)\n",
    "    else:\n",
    "        os.makedirs(output_folder)\n",
    "\n",
    "    while True:\n",
    "            \n",
    "            if counter >= no_of_frames:\n",
    "                break\n",
    "    \n",
    "            imgtemp =  cv2.imread(image_folder1 + images1[counter])\n",
    "            imgbg = cv2.imread(image_folder2 + images2[counter])\n",
    "    \n",
    "            # setting the output frame size\n",
    "            imgbg = cv2.resize(imgbg, (final_width, final_height))\n",
    "            imgtemp = cv2.resize(imgtemp, (imgbg.shape[1], imgbg.shape[0]))\n",
    "    \n",
    "            for i in range(imgtemp.shape[0]):\n",
    "                for j in range(imgtemp.shape[1]):\n",
    "                    if imgtemp[i][j][1] >= 200: # checking if green pixel\n",
    "                        imgtemp[i][j]= imgbg[i][j]\n",
    "\n",
    "                        \n",
    "            # writing the video\n",
    "            cv2.imwrite(output_folder+'/'+str(counter)+'.jpg', imgtemp)\n",
    "            counter += 1   \n",
    "            print(str(counter) + ' / ' + str(no_of_frames) , end='\\r')\n",
    "    "
   ]
  },
  {
   "cell_type": "code",
   "execution_count": 12,
   "metadata": {},
   "outputs": [
    {
     "name": "stdout",
     "output_type": "stream",
     "text": [
      "361 / 361\r"
     ]
    }
   ],
   "source": [
    "final_height = 480\n",
    "final_width = 640\n",
    "output_folder = 'output'\n",
    "frames_folder1 = 'video_to_be_composited/' # foreground video (green screen)\n",
    "frames_folder2 = 'video_to_be_composited_on/' # background video\n",
    "composite_videos(output_folder, frames_folder1, frames_folder2, final_height, final_width)"
   ]
  },
  {
   "cell_type": "code",
   "execution_count": 13,
   "metadata": {},
   "outputs": [],
   "source": [
    "os.remove('./output.mp4')\n",
    "images_to_video('./output', 'output.mp4', 30)"
   ]
  }
 ],
 "metadata": {
  "kernelspec": {
   "display_name": "Python 3",
   "language": "python",
   "name": "python3"
  },
  "language_info": {
   "codemirror_mode": {
    "name": "ipython",
    "version": 3
   },
   "file_extension": ".py",
   "mimetype": "text/x-python",
   "name": "python",
   "nbconvert_exporter": "python",
   "pygments_lexer": "ipython3",
   "version": "3.8.10"
  }
 },
 "nbformat": 4,
 "nbformat_minor": 2
}
